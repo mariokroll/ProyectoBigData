{
  "nbformat": 4,
  "nbformat_minor": 0,
  "metadata": {
    "colab": {
      "provenance": []
    },
    "kernelspec": {
      "name": "python3",
      "display_name": "Python 3"
    },
    "language_info": {
      "name": "python"
    }
  },
  "cells": [
    {
      "cell_type": "markdown",
      "source": [
        "# **Carga de datos**"
      ],
      "metadata": {
        "id": "1n_V5YQZEplo"
      }
    },
    {
      "cell_type": "code",
      "execution_count": null,
      "metadata": {
        "colab": {
          "base_uri": "https://localhost:8080/"
        },
        "id": "UMyhu_x15AOt",
        "outputId": "2be78c10-8004-4f74-b2cb-e4b233e23b97"
      },
      "outputs": [
        {
          "output_type": "stream",
          "name": "stdout",
          "text": [
            "\u001b[33m\r0% [Working]\u001b[0m\r            \rHit:1 https://cloud.r-project.org/bin/linux/ubuntu jammy-cran40/ InRelease\n",
            "Hit:2 https://developer.download.nvidia.com/compute/cuda/repos/ubuntu2204/x86_64  InRelease\n",
            "Get:3 http://security.ubuntu.com/ubuntu jammy-security InRelease [110 kB]\n",
            "Hit:4 http://archive.ubuntu.com/ubuntu jammy InRelease\n",
            "Get:5 http://archive.ubuntu.com/ubuntu jammy-updates InRelease [119 kB]\n",
            "Get:6 http://security.ubuntu.com/ubuntu jammy-security/main amd64 Packages [1,755 kB]\n",
            "Get:7 http://security.ubuntu.com/ubuntu jammy-security/universe amd64 Packages [1,077 kB]\n",
            "Hit:8 http://archive.ubuntu.com/ubuntu jammy-backports InRelease\n",
            "Hit:9 https://ppa.launchpadcontent.net/c2d4u.team/c2d4u4.0+/ubuntu jammy InRelease\n",
            "Hit:10 https://ppa.launchpadcontent.net/deadsnakes/ppa/ubuntu jammy InRelease\n",
            "Hit:11 https://ppa.launchpadcontent.net/graphics-drivers/ppa/ubuntu jammy InRelease\n",
            "Hit:12 https://ppa.launchpadcontent.net/ubuntugis/ppa/ubuntu jammy InRelease\n",
            "Fetched 3,062 kB in 9s (330 kB/s)\n",
            "Reading package lists... Done\n",
            "Building dependency tree... Done\n",
            "Reading state information... Done\n",
            "45 packages can be upgraded. Run 'apt list --upgradable' to see them.\n",
            "tar: spark-3.2.1-bin-hadoop3.2.tgz: Cannot open: No such file or directory\n",
            "tar: Error is not recoverable: exiting now\n",
            "Requirement already satisfied: pyspark in /usr/local/lib/python3.10/dist-packages (3.5.1)\n",
            "Requirement already satisfied: py4j==0.10.9.7 in /usr/local/lib/python3.10/dist-packages (from pyspark) (0.10.9.7)\n",
            "Requirement already satisfied: py4j in /usr/local/lib/python3.10/dist-packages (0.10.9.7)\n"
          ]
        }
      ],
      "source": [
        "!sudo apt update\n",
        "!apt-get install openjdk-8-jdk-headless -qq > /dev/null\n",
        "#Check this site for the latest download link https://www.apache.org/dyn/closer.lua/spark/spark-3.2.1/spark-3.2.1-bin-hadoop3.2.tgz\n",
        "!wget -q https://dlcdn.apache.org/spark/spark-3.2.1/spark-3.2.1-bin-hadoop3.2.tgz\n",
        "!tar xf spark-3.2.1-bin-hadoop3.2.tgz\n",
        "!pip install -q findspark\n",
        "!pip install pyspark\n",
        "!pip install py4j\n",
        "\n",
        "import os\n",
        "import sys\n",
        "# os.environ[\"JAVA_HOME\"] = \"/usr/lib/jvm/java-8-openjdk-amd64\"\n",
        "# os.environ[\"SPARK_HOME\"] = \"/content/spark-3.2.1-bin-hadoop3.2\"\n",
        "\n",
        "\n",
        "import findspark\n",
        "findspark.init()\n",
        "findspark.find()\n",
        "\n",
        "import pyspark"
      ]
    },
    {
      "cell_type": "markdown",
      "source": [
        "## Importación de las librerías"
      ],
      "metadata": {
        "id": "xbBG2dJiE1OB"
      }
    },
    {
      "cell_type": "code",
      "source": [
        "import pyspark\n",
        "import pyspark.sql.functions as F\n",
        "import numpy as np\n",
        "from pyspark.sql import SparkSession\n",
        "import numpy as np\n",
        "from datetime import datetime, timedelta\n",
        "from pyspark.sql.window import Window\n",
        "import numpy as np\n",
        "import math\n",
        "import pandas as pd\n",
        "import subprocess\n",
        "from google.colab import drive\n",
        "import plotly.express as px\n",
        "import numpy as np\n",
        "import pandas as pd\n",
        "from pyspark.sql.functions import mean\n"
      ],
      "metadata": {
        "id": "RFbKlJc35FMk"
      },
      "execution_count": null,
      "outputs": []
    },
    {
      "cell_type": "code",
      "source": [
        "from pyspark.ml.evaluation import RegressionEvaluator\n",
        "from pyspark.ml.feature import VectorAssembler\n",
        "from pyspark.ml.regression import RandomForestRegressor"
      ],
      "metadata": {
        "id": "er2rkTX6g-jb"
      },
      "execution_count": null,
      "outputs": []
    },
    {
      "cell_type": "markdown",
      "source": [
        "### Creación del SparkContext"
      ],
      "metadata": {
        "id": "7eFC0LJ2E8Yr"
      }
    },
    {
      "cell_type": "code",
      "source": [
        "appName = \"sprint4_abd14\""
      ],
      "metadata": {
        "id": "MqhMlnh3OLU9"
      },
      "execution_count": null,
      "outputs": []
    },
    {
      "cell_type": "code",
      "source": [
        "spark = SparkSession.builder\\\n",
        "                    .appName(appName) \\\n",
        "                    .getOrCreate()\n",
        "sc = spark.sparkContext"
      ],
      "metadata": {
        "id": "zPoB2aU457xm"
      },
      "execution_count": null,
      "outputs": []
    },
    {
      "cell_type": "code",
      "source": [
        "spark = SparkSession.builder.master(\"yarn\") \\\n",
        "                    .appName(appName) \\\n",
        "                    .getOrCreate()\n",
        "sc = spark.sparkContext\n",
        "table = spark.table(\"technology_information.data_orc\")"
      ],
      "metadata": {
        "id": "xrR5g3i7N_af"
      },
      "execution_count": null,
      "outputs": []
    },
    {
      "cell_type": "markdown",
      "source": [
        "### Extracción de los datos"
      ],
      "metadata": {
        "id": "ZxkOgH2kFGPE"
      }
    },
    {
      "cell_type": "code",
      "source": [
        "from pyspark.sql import SQLContext\n",
        "\n",
        "sqlContext = SQLContext(sc)\n",
        "\n",
        "y1 = sqlContext.read.format('com.databricks.spark.csv').options(header='true', inferschema='true').load('data_year_1.csv')\n",
        "y2 = sqlContext.read.format('com.databricks.spark.csv').options(header='true', inferschema='true').load('data_year_2.csv')\n",
        "y3 = sqlContext.read.format('com.databricks.spark.csv').options(header='true', inferschema='true').load('data_year_3.csv')\n",
        "y4 = sqlContext.read.format('com.databricks.spark.csv').options(header='true', inferschema='true').load('data_year_4.csv')\n",
        "y5 = sqlContext.read.format('com.databricks.spark.csv').options(header='true', inferschema='true').load('data_year_5.csv')\n",
        "y6 = sqlContext.read.format('com.databricks.spark.csv').options(header='true', inferschema='true').load('data_year_6.csv')\n",
        "df = y1.union(y2).union(y3).union(y4).union(y5).union(y6)"
      ],
      "metadata": {
        "id": "TMR21mPkElUj",
        "colab": {
          "base_uri": "https://localhost:8080/"
        },
        "outputId": "36624939-3968-4374-e8d9-feeeb9ac47b1"
      },
      "execution_count": null,
      "outputs": [
        {
          "output_type": "stream",
          "name": "stderr",
          "text": [
            "/usr/local/lib/python3.10/dist-packages/pyspark/sql/context.py:113: FutureWarning: Deprecated in 3.0.0. Use SparkSession.builder.getOrCreate() instead.\n",
            "  warnings.warn(\n"
          ]
        }
      ]
    },
    {
      "cell_type": "markdown",
      "source": [
        "### Quitar columnas que no vamos a utilizar"
      ],
      "metadata": {
        "id": "KTnrJFFALQBh"
      }
    },
    {
      "cell_type": "code",
      "source": [
        "table = y1.union(y2).union(y3).union(y4).union(y5).union(y6)\n",
        "table1 = table.filter(F.col(\"symbol\")==\"IBM\")\n",
        "table1 = table1.withColumn(\"index\", F.monotonically_increasing_id() + 1).drop(\"date\").drop(\"cik\").drop(\"stocksplits\").drop(\"dividends\")"
      ],
      "metadata": {
        "id": "K0eCKZtAFZKZ"
      },
      "execution_count": null,
      "outputs": []
    },
    {
      "cell_type": "code",
      "source": [],
      "metadata": {
        "colab": {
          "base_uri": "https://localhost:8080/"
        },
        "id": "cOAe3PzcNWMk",
        "outputId": "8f474cb1-dc2d-4b48-c2d4-6b8e7adf009a"
      },
      "execution_count": null,
      "outputs": [
        {
          "output_type": "stream",
          "name": "stdout",
          "text": [
            "+----+------+------------------+-----------------+------------------+------------------+---------+------------+-----+\n",
            "| _c0|Symbol|              Open|             High|               Low|             Close|   Volume|Stock Splits|index|\n",
            "+----+------+------------------+-----------------+------------------+------------------+---------+------------+-----+\n",
            "|6778|   IBM|112.76093494266284|114.5311089264952|112.03709157817772| 113.5851058959961|9875914.0|         0.0|    2|\n",
            "|6779|   IBM|114.41642523569091|116.3299355817973|114.21575864074724|115.88560485839844|7903785.0|         0.0|    3|\n",
            "+----+------+------------------+-----------------+------------------+------------------+---------+------------+-----+\n",
            "only showing top 2 rows\n",
            "\n"
          ]
        }
      ]
    },
    {
      "cell_type": "markdown",
      "source": [
        "### Creamos las columnas de lag"
      ],
      "metadata": {
        "id": "eYVU3adCLYEm"
      }
    },
    {
      "cell_type": "code",
      "source": [
        "window_spec = Window.partitionBy('symbol').orderBy('index')\n",
        "for column in ['Open', 'Close', 'High', 'Low', 'Volume']:\n",
        "    table1 = table1.withColumn(f'prev_{column}', F.lag(table1[column], 1).over(window_spec))"
      ],
      "metadata": {
        "id": "tP9aPZMqLnWG"
      },
      "execution_count": null,
      "outputs": []
    },
    {
      "cell_type": "markdown",
      "source": [
        "### Dropeamos la primera fila"
      ],
      "metadata": {
        "id": "EzdKu095NdtW"
      }
    },
    {
      "cell_type": "code",
      "source": [
        "table1 = table1.filter(F.col(\"index\")>1)"
      ],
      "metadata": {
        "id": "IvJiCpb_NdBY"
      },
      "execution_count": null,
      "outputs": []
    },
    {
      "cell_type": "markdown",
      "source": [
        "### Rellenamos NAN con la media de cada columna"
      ],
      "metadata": {
        "id": "tFp6JMTiNhnR"
      }
    },
    {
      "cell_type": "code",
      "source": [
        "def fillna_mean(df, include=set()):\n",
        "    means = df.agg(*(\n",
        "        mean(x).alias(x) for x in df.columns if x in include\n",
        "    ))\n",
        "    return df.fillna(means.first().asDict())\n",
        "\n",
        "df = fillna_mean(df, ['Open', 'High', 'Low', 'Close', 'Volume'])"
      ],
      "metadata": {
        "id": "ObEprHzOgxDs"
      },
      "execution_count": null,
      "outputs": []
    },
    {
      "cell_type": "markdown",
      "source": [
        "### Creamos el vector para el entrenamiento"
      ],
      "metadata": {
        "id": "ZS0QrenbNufU"
      }
    },
    {
      "cell_type": "code",
      "source": [
        "feature_columns = ['prev_Open', 'prev_Close', 'prev_High', 'prev_Low', 'prev_Volume']\n",
        "assembler = VectorAssembler(inputCols=feature_columns, outputCol=\"features\")\n",
        "df = assembler.transform(df)\n",
        "df = df.select(\"features\", \"close\")"
      ],
      "metadata": {
        "id": "XGzPOduIgV6U"
      },
      "execution_count": null,
      "outputs": []
    },
    {
      "cell_type": "markdown",
      "source": [
        "### Dividimos en train y test"
      ],
      "metadata": {
        "id": "TceVuxSVNy2i"
      }
    },
    {
      "cell_type": "code",
      "source": [
        "train_data, test_data = df.randomSplit([0.8, 0.2], seed=1234)"
      ],
      "metadata": {
        "id": "CUAcC9H3g26d"
      },
      "execution_count": null,
      "outputs": []
    },
    {
      "cell_type": "markdown",
      "source": [
        "### Definimos el modelo"
      ],
      "metadata": {
        "id": "fC6Sjj4hOStp"
      }
    },
    {
      "cell_type": "code",
      "source": [
        "rf = RandomForestRegressor(labelCol=\"close\", featuresCol=\"features\")\n",
        "rf_tr = rf.fit(train_data)"
      ],
      "metadata": {
        "id": "nGr1j7d0hUvO"
      },
      "execution_count": null,
      "outputs": []
    },
    {
      "cell_type": "markdown",
      "source": [
        "### Predecimos"
      ],
      "metadata": {
        "id": "7YIho0yaOU2R"
      }
    },
    {
      "cell_type": "code",
      "source": [
        "predictions = rf_tr.transform(test_data)"
      ],
      "metadata": {
        "id": "rhcERn7thlFe"
      },
      "execution_count": null,
      "outputs": []
    },
    {
      "cell_type": "markdown",
      "source": [
        "### Evaluamos"
      ],
      "metadata": {
        "id": "dFP8wYmiOXfr"
      }
    },
    {
      "cell_type": "code",
      "source": [
        "evaluator = RegressionEvaluator(labelCol=\"close\", predictionCol=\"prediction\", metricName=\"r2\")\n",
        "r2 = evaluator.evaluate(predictions)\n",
        "print(f\"R2 on test data = {r2}\")"
      ],
      "metadata": {
        "colab": {
          "base_uri": "https://localhost:8080/"
        },
        "id": "pbYSOe-DiAHg",
        "outputId": "e1a54d61-221f-4e83-a5c8-3a2f29f0f88f"
      },
      "execution_count": null,
      "outputs": [
        {
          "output_type": "stream",
          "name": "stdout",
          "text": [
            "R2 on test data = 0.9789384162380641\n"
          ]
        }
      ]
    },
    {
      "cell_type": "markdown",
      "source": [
        "### Pintamos los resultados"
      ],
      "metadata": {
        "id": "G9ZGh9HLOg9G"
      }
    },
    {
      "cell_type": "code",
      "source": [
        "predictions_pandas = predictions.select(\"close\", \"prediction\").toPandas()"
      ],
      "metadata": {
        "id": "GaYtffyvsQTk"
      },
      "execution_count": null,
      "outputs": []
    },
    {
      "cell_type": "code",
      "source": [
        "import matplotlib.pyplot as plt\n",
        "\n",
        "\n",
        "plt.figure(figsize=(10, 5))\n",
        "plt.plot(predictions_pandas['close'], label='Actual Close Price', color='blue', marker='o')\n",
        "plt.plot(predictions_pandas['prediction'], label='Predicted Close Price', color='red', marker='x')\n",
        "plt.title('Comparison of Actual and Predicted Open Prices')\n",
        "plt.xlabel('Index')\n",
        "plt.ylabel('Open Price')\n",
        "plt.legend()\n",
        "plt.show()"
      ],
      "metadata": {
        "colab": {
          "base_uri": "https://localhost:8080/",
          "height": 487
        },
        "id": "WpMCcDq3tUSW",
        "outputId": "76469d15-b891-48e0-ded8-2b8e6395a846"
      },
      "execution_count": null,
      "outputs": [
        {
          "output_type": "display_data",
          "data": {
            "text/plain": [
              "<Figure size 1000x500 with 1 Axes>"
            ],
            "image/png": "[encoded data removed]"
          },
          "metadata": {}
        }
      ]
    }
  ]
}